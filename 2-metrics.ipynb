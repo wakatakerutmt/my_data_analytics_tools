{
 "cells": [
  {
   "cell_type": "code",
   "execution_count": 1,
   "metadata": {},
   "outputs": [],
   "source": [
    "import numpy as np\n",
    "import pandas as pd"
   ]
  },
  {
   "cell_type": "markdown",
   "metadata": {},
   "source": [
    "## 回帰\n",
    "\n",
    "- rmse\n",
    "\n",
    "## 二値分類\n",
    "### 1 「正例か負例か」を予測値して、それに対して評価を行う\n",
    "\n",
    "- 混同行列 \n",
    " (TP,FP,TN,FN：TかNかは予測が正しいか誤ったかを意味する、意味の順としてはTPならP→Tで、Positiveと予測して当たった数)\n",
    "- accuracy （正解率：全部のうち予測があたった割合）\n",
    "- precision (適合率：正と予測したもののうち、真に正だった割合。誤検知を少なくしたいときに重視)\n",
    "- recall (再現率：真が正のもののうち、予測が正だった割合。正例の見逃しを避けたいときに重視)\n",
    "\n",
    "### 2 「正例である確率」を予測値としてそれに対して評価を行う\n",
    "\n",
    "- logloss(クロスエントロピー) :0に近いほど正確に予測できている\n",
    "- AUC (ROC曲線 x軸:偽陽性率, y軸:真陽性率(=recall))\n",
    "\n",
    "\n",
    "## レコメンデーションでの評価指標\n",
    "\n",
    "- MAP@K (Mean Average Precision @ K): 予測値が高い順にK個のクラスを予測値とする"
   ]
  },
  {
   "cell_type": "code",
   "execution_count": 2,
   "metadata": {},
   "outputs": [
    {
     "name": "stdout",
     "output_type": "stream",
     "text": [
      "0.5531726674375732\n"
     ]
    }
   ],
   "source": [
    "# -----------------------------------\n",
    "# 回帰\n",
    "# -----------------------------------\n",
    "# rmse\n",
    "\n",
    "from sklearn.metrics import mean_squared_error\n",
    "def calc_rmse(y_true, y_pred):\n",
    "    return np.sqrt(mean_squared_error(y_true, y_pred))\n",
    "\n",
    "# y_trueが真の値、y_predが予測値\n",
    "y_true = [1.0, 1.5, 2.0, 1.2, 1.8]\n",
    "y_pred = [0.8, 1.5, 1.8, 1.3, 3.0]\n",
    "\n",
    "rmse = calc_rmse(y_true, y_pred)\n",
    "print(rmse)\n",
    "# 0.5532"
   ]
  },
  {
   "cell_type": "code",
   "execution_count": 13,
   "metadata": {},
   "outputs": [
    {
     "name": "stdout",
     "output_type": "stream",
     "text": [
      "[[3 1]\n",
      " [2 2]]\n",
      "3 2 1 2\n",
      "[[2 1]\n",
      " [2 3]]\n",
      "3 2 1 2\n"
     ]
    },
    {
     "data": {
      "text/plain": [
       "<matplotlib.axes._subplots.AxesSubplot at 0x1c90fd704a8>"
      ]
     },
     "execution_count": 13,
     "metadata": {},
     "output_type": "execute_result"
    },
    {
     "data": {
      "image/png": "[encoded data removed]",
      "text/plain": [
       "<Figure size 432x288 with 2 Axes>"
      ]
     },
     "metadata": {
      "needs_background": "light"
     },
     "output_type": "display_data"
    }
   ],
   "source": [
    "# -----------------------------------\n",
    "# 二値分類\n",
    "# -----------------------------------\n",
    "# 混同行列\n",
    "\n",
    "from sklearn.metrics import confusion_matrix\n",
    "\n",
    "# 0, 1で表される二値分類の真の値と予測値\n",
    "y_true = [1, 0, 1, 1, 0, 1, 1, 0]\n",
    "y_pred = [0, 0, 1, 1, 0, 0, 1, 1]\n",
    "\n",
    "tp = np.sum((np.array(y_true) == 1) & (np.array(y_pred) == 1))\n",
    "tn = np.sum((np.array(y_true) == 0) & (np.array(y_pred) == 0))\n",
    "fp = np.sum((np.array(y_true) == 0) & (np.array(y_pred) == 1))\n",
    "fn = np.sum((np.array(y_true) == 1) & (np.array(y_pred) == 0))\n",
    "\n",
    "confusion_matrix1 = np.array([[tp, fp],\n",
    "                              [fn, tn]])\n",
    "print(confusion_matrix1)\n",
    "# array([[3, 1],\n",
    "#        [2, 2]])\n",
    "print(tp,fn,fp,tn)\n",
    "\n",
    "\n",
    "# scikit-learnのmetricsモジュールのconfusion_matrixでも作成できるが、混同行列の要素の配置が違うので注意が必要\n",
    "confusion_matrix2 = confusion_matrix(y_true, y_pred)\n",
    "tn, fp, fn, tp = confusion_matrix(y_true, y_pred).flatten()\n",
    "print(confusion_matrix2)\n",
    "# array([[2, 1],   [tn, fp] \n",
    "#        [2, 3]])  [fn, fn]\n",
    "\n",
    "# 0 = Negative, 1 = Positive\n",
    "#           Predicted\n",
    "#           0    1\n",
    "# Actual 0  TN   FP\n",
    "#        1  FN   TP\n",
    "\n",
    "print(tp,fn,fp,tn)\n",
    "\n",
    "\n",
    "# 可視化\n",
    "import seaborn as sns\n",
    "import matplotlib.pyplot as plt\n",
    "%matplotlib inline\n",
    "# sns.heatmap(confusion_matrix2)\n",
    "sns.heatmap(confusion_matrix2, annot=True, cmap='Blues')"
   ]
  },
  {
   "cell_type": "code",
   "execution_count": 9,
   "metadata": {},
   "outputs": [
    {
     "name": "stdout",
     "output_type": "stream",
     "text": [
      "0.625\n",
      "0.75\n",
      "0.6\n",
      "0.6666666666666665\n"
     ]
    }
   ],
   "source": [
    "# -----------------------------------\n",
    "# accuracy\n",
    "# precision\n",
    "# recall\n",
    "# f1 score\n",
    "# -----------------------------------\n",
    "\n",
    "from sklearn.metrics import accuracy_score\n",
    "from sklearn.metrics import precision_score\n",
    "from sklearn.metrics import recall_score\n",
    "from sklearn.metrics import f1_score\n",
    "\n",
    "# 0, 1で表される二値分類の真の値と予測値\n",
    "y_true = [1, 0, 1, 1, 0, 1, 1, 0]\n",
    "y_pred = [0, 0, 1, 1, 0, 0, 1, 1]\n",
    "\n",
    "accuracy = accuracy_score(y_true, y_pred)\n",
    "print(accuracy)\n",
    "# 0.625\n",
    "\n",
    "precision = precision_score(y_true, y_pred)\n",
    "print(precision)\n",
    "\n",
    "recall = recall_score(y_true, y_pred)\n",
    "print(recall)\n",
    "\n",
    "f1 = f1_score(y_true, y_pred)\n",
    "print(f1)"
   ]
  },
  {
   "cell_type": "code",
   "execution_count": 21,
   "metadata": {},
   "outputs": [
    {
     "name": "stdout",
     "output_type": "stream",
     "text": [
      "<class 'tuple'>\n",
      "3\n",
      "[0.   0.   0.25 0.25 0.5  0.5  1.  ]\n",
      "[0.   0.25 0.25 0.5  0.5  1.   1.  ]\n",
      "[1.9 0.9 0.8 0.7 0.6 0.4 0.2]\n"
     ]
    },
    {
     "data": {
      "image/png": "[encoded data removed]",
      "text/plain": [
       "<Figure size 432x288 with 1 Axes>"
      ]
     },
     "metadata": {
      "needs_background": "light"
     },
     "output_type": "display_data"
    }
   ],
   "source": [
    "# -----------------------------------\n",
    "#　ROC曲線\n",
    "# -----------------------------------\n",
    "\n",
    "from sklearn.metrics import roc_curve\n",
    "import matplotlib.pyplot as plt\n",
    "\n",
    "y_true = [0, 0, 0, 0, 1, 1, 1, 1]\n",
    "y_score = [0.2, 0.3, 0.6, 0.8, 0.4, 0.5, 0.7, 0.9]\n",
    "\n",
    "roc = roc_curve(y_true, y_score)\n",
    "\n",
    "print(type(roc))\n",
    "# <class 'tuple'>\n",
    "\n",
    "print(len(roc))\n",
    "# 3\n",
    "\n",
    "fpr, tpr, thresholds = roc_curve(y_true, y_score)\n",
    "\n",
    "print(fpr)\n",
    "# [0.   0.   0.25 0.25 0.5  0.5  1.  ]\n",
    "\n",
    "print(tpr)\n",
    "# [0.   0.25 0.25 0.5  0.5  1.   1.  ]\n",
    "\n",
    "print(thresholds)\n",
    "# [1.9 0.9 0.8 0.7 0.6 0.4 0.2]\n",
    "\n",
    "plt.plot(fpr, tpr, marker='o')\n",
    "plt.xlabel('FPR: False positive rate')\n",
    "plt.ylabel('TPR: True positive rate')\n",
    "plt.grid()\n",
    "# plt.savefig('data/dst/sklearn_roc_curve.png')"
   ]
  },
  {
   "cell_type": "code",
   "execution_count": 22,
   "metadata": {},
   "outputs": [
    {
     "name": "stdout",
     "output_type": "stream",
     "text": [
      "[0.   0.   0.25 0.25 0.5  0.5  0.5  0.75 1.  ]\n",
      "[0.   0.25 0.25 0.5  0.5  0.75 1.   1.   1.  ]\n",
      "[1.9 0.9 0.8 0.7 0.6 0.5 0.4 0.3 0.2]\n"
     ]
    },
    {
     "data": {
      "image/png": "[encoded data removed]",
      "text/plain": [
       "<Figure size 432x288 with 1 Axes>"
      ]
     },
     "metadata": {
      "needs_background": "light"
     },
     "output_type": "display_data"
    }
   ],
   "source": [
    "# drop_intermediate=False で点の省略なし表示\n",
    "fpr_all, tpr_all, thresholds_all = roc_curve(y_true, y_score,\n",
    "                                             drop_intermediate=False)\n",
    "\n",
    "print(fpr_all)\n",
    "# [0.   0.   0.25 0.25 0.5  0.5  0.5  0.75 1.  ]\n",
    "\n",
    "print(tpr_all)\n",
    "# [0.   0.25 0.25 0.5  0.5  0.75 1.   1.   1.  ]\n",
    "\n",
    "print(thresholds_all)\n",
    "# [1.9 0.9 0.8 0.7 0.6 0.5 0.4 0.3 0.2]\n",
    "\n",
    "plt.plot(fpr_all, tpr_all, marker='o')\n",
    "plt.xlabel('FPR: False positive rate')\n",
    "plt.ylabel('TPR: True positive rate')\n",
    "plt.grid()"
   ]
  },
  {
   "cell_type": "code",
   "execution_count": 23,
   "metadata": {},
   "outputs": [
    {
     "name": "stdout",
     "output_type": "stream",
     "text": [
      "0.6875\n"
     ]
    }
   ],
   "source": [
    "# -----------------------------------\n",
    "#　AUC\n",
    "# -----------------------------------\n",
    "\n",
    "from sklearn.metrics import roc_auc_score\n",
    "\n",
    "y_true = np.array([0, 0, 0, 0, 1, 1, 1, 1])\n",
    "y_score = np.array([0.2, 0.3, 0.6, 0.8, 0.4, 0.5, 0.7, 0.9])\n",
    "\n",
    "print(roc_auc_score(y_true, y_score))\n",
    "# 0.6875"
   ]
  },
  {
   "cell_type": "code",
   "execution_count": 24,
   "metadata": {},
   "outputs": [
    {
     "name": "stdout",
     "output_type": "stream",
     "text": [
      "0.6499999999999999\n",
      "1.0\n",
      "0.5833333333333333\n"
     ]
    }
   ],
   "source": [
    "# -----------------------------------\n",
    "# レコメンデーション\n",
    "# -----------------------------------\n",
    "# MAP@K\n",
    "\n",
    "# K=3、レコード数は5個、クラスは4種類とする\n",
    "K = 3\n",
    "\n",
    "# 各レコードの真の値\n",
    "y_true = [[1, 2], [1, 2], [4], [1, 2, 3, 4], [3, 4]]\n",
    "\n",
    "# 各レコードに対する予測値 - K=3なので、通常は各レコードにそれぞれ3個まで順位をつけて予測する\n",
    "y_pred = [[1, 2, 4], [4, 1, 2], [1, 4, 3], [1, 2, 3], [1, 2, 4]]\n",
    "\n",
    "\n",
    "# 各レコードごとのaverage precisionを計算する関数\n",
    "def apk(y_i_true, y_i_pred):\n",
    "    # y_predがK以下の長さで、要素がすべて異なることが必要\n",
    "    assert (len(y_i_pred) <= K)\n",
    "    assert (len(np.unique(y_i_pred)) == len(y_i_pred))\n",
    "\n",
    "    sum_precision = 0.0\n",
    "    num_hits = 0.0\n",
    "\n",
    "    for i, p in enumerate(y_i_pred):\n",
    "        if p in y_i_true:\n",
    "            num_hits += 1\n",
    "            precision = num_hits / (i + 1)\n",
    "            sum_precision += precision\n",
    "\n",
    "    return sum_precision / min(len(y_i_true), K)\n",
    "\n",
    "\n",
    "# MAP@K を計算する関数\n",
    "def mapk(y_true, y_pred):\n",
    "    return np.mean([apk(y_i_true, y_i_pred) for y_i_true, y_i_pred in zip(y_true, y_pred)])\n",
    "\n",
    "\n",
    "# MAP@Kを求める\n",
    "print(mapk(y_true, y_pred))\n",
    "# 0.65\n",
    "\n",
    "# 正解の数が同じでも、順序が違うとスコアも異なる\n",
    "print(apk(y_true[0], y_pred[0]))\n",
    "print(apk(y_true[1], y_pred[1]))\n",
    "# 1.0, 0.5833\n"
   ]
  },
  {
   "cell_type": "code",
   "execution_count": null,
   "metadata": {},
   "outputs": [],
   "source": []
  }
 ],
 "metadata": {
  "kernelspec": {
   "display_name": "Python 3",
   "language": "python",
   "name": "python3"
  },
  "language_info": {
   "codemirror_mode": {
    "name": "ipython",
    "version": 3
   },
   "file_extension": ".py",
   "mimetype": "text/x-python",
   "name": "python",
   "nbconvert_exporter": "python",
   "pygments_lexer": "ipython3",
   "version": "3.6.9"
  }
 },
 "nbformat": 4,
 "nbformat_minor": 2
}
